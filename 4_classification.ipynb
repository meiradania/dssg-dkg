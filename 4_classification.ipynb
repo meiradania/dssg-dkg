{
 "cells": [
  {
   "cell_type": "code",
   "execution_count": 1,
   "metadata": {
    "collapsed": false
   },
   "outputs": [],
   "source": [
    "import pandas as pd\n",
    "import numpy as np\n",
    "from gensim import corpora, models, similarities, matutils\n",
    "from sklearn.model_selection import train_test_split\n",
    "\n",
    "# load data\n",
    "df = pd.read_csv(\"../metadata/niere-example/df_classification_valid.csv\")\n",
    "dictionary = corpora.Dictionary.load(\"../metadata/niere-example/fulltitle.dict\")\n",
    "corpus = corpora.MmCorpus(\"../metadata/niere-example/fulltitle.mm\")\n",
    "matrix_tfidf_transpose = np.loadtxt(\"../metadata/niere-example/tf_idf_matrix.txt\")"
   ]
  },
  {
   "cell_type": "code",
   "execution_count": 2,
   "metadata": {
    "collapsed": false
   },
   "outputs": [],
   "source": [
    "# Unsupervised method\n",
    "# k-means\n",
    "from scipy.cluster.vq import kmeans,vq\n",
    "\n",
    "# computing K-Means with K = 2 (2 clusters)\n",
    "centroids,_ = kmeans(matrix_tfidf_transpose,2)\n",
    "\n",
    "# assign each sample to a cluster\n",
    "idx,_ = vq(matrix_tfidf_transpose,centroids)\n",
    "df['kmeans_tfidf'] = idx"
   ]
  },
  {
   "cell_type": "code",
   "execution_count": 5,
   "metadata": {
    "collapsed": false
   },
   "outputs": [
    {
     "data": {
      "text/html": [
       "<div>\n",
       "<table border=\"1\" class=\"dataframe\">\n",
       "  <thead>\n",
       "    <tr style=\"text-align: right;\">\n",
       "      <th>useful</th>\n",
       "      <th>0</th>\n",
       "      <th>1</th>\n",
       "      <th>All</th>\n",
       "    </tr>\n",
       "    <tr>\n",
       "      <th>kmeans_tfidf</th>\n",
       "      <th></th>\n",
       "      <th></th>\n",
       "      <th></th>\n",
       "    </tr>\n",
       "  </thead>\n",
       "  <tbody>\n",
       "    <tr>\n",
       "      <th>0</th>\n",
       "      <td>577</td>\n",
       "      <td>302</td>\n",
       "      <td>879</td>\n",
       "    </tr>\n",
       "    <tr>\n",
       "      <th>1</th>\n",
       "      <td>3109</td>\n",
       "      <td>346</td>\n",
       "      <td>3455</td>\n",
       "    </tr>\n",
       "    <tr>\n",
       "      <th>All</th>\n",
       "      <td>3686</td>\n",
       "      <td>648</td>\n",
       "      <td>4334</td>\n",
       "    </tr>\n",
       "  </tbody>\n",
       "</table>\n",
       "</div>"
      ],
      "text/plain": [
       "useful           0    1   All\n",
       "kmeans_tfidf                 \n",
       "0              577  302   879\n",
       "1             3109  346  3455\n",
       "All           3686  648  4334"
      ]
     },
     "metadata": {},
     "output_type": "display_data"
    },
    {
     "name": "stdout",
     "output_type": "stream",
     "text": [
      "Recall - the ability of the classifier to find all the positive samples: 53.4%\n",
      "Precision - the ability of the classifier not to label as positive a sample that is negative: 10.0%\n"
     ]
    }
   ],
   "source": [
    "# Compare flag with cluster results\n",
    "from sklearn import metrics\n",
    "from IPython.display import display\n",
    "\n",
    "# precision = tp / (tp+fp) \n",
    "# recall = tp / (tp+fn)\n",
    "\n",
    "display(pd.crosstab(df.kmeans_tfidf, df.useful , margins=True))\n",
    "print 'Recall - the ability of the classifier to find all the positive samples: {:.1f}%'.format(metrics.recall_score(df.useful, df.kmeans_tfidf)*100)\n",
    "print 'Precision - the ability of the classifier not to label as positive a sample that is negative: {:.1f}%'.format(metrics.precision_score(df.useful, df.kmeans_tfidf)*100)"
   ]
  },
  {
   "cell_type": "code",
   "execution_count": 7,
   "metadata": {
    "collapsed": false
   },
   "outputs": [
    {
     "data": {
      "text/plain": [
       "array([[927,  15],\n",
       "       [124,  18]])"
      ]
     },
     "metadata": {},
     "output_type": "display_data"
    },
    {
     "name": "stdout",
     "output_type": "stream",
     "text": [
      "Recall - the ability of the classifier to find all the positive samples: 12.7%\n",
      "Precision - the ability of the classifier not to label as positive a sample that is negative: 54.5%\n"
     ]
    }
   ],
   "source": [
    "# Supervised method\n",
    "# a) Test / Validation Split\n",
    "# b) Train the logistic regression model\n",
    "\n",
    "from sklearn.model_selection import train_test_split\n",
    "from sklearn.linear_model import LogisticRegression\n",
    "\n",
    "X_train, X_test, y_train, y_test = train_test_split(matrix_tfidf_transpose, \n",
    "                                                    df.useful, test_size=0.25, random_state=0)\n",
    "\n",
    "classifier = LogisticRegression()\n",
    "classifier.fit(X_train, y_train)\n",
    "\n",
    "\n",
    "y_test_predict = classifier.predict(X_test)\n",
    "\n",
    "display(metrics.confusion_matrix(y_test, y_test_predict))\n",
    "print 'Recall - the ability of the classifier to find all the positive samples: {:.1f}%'.format(metrics.recall_score(y_test, y_test_predict)*100)\n",
    "print 'Precision - the ability of the classifier not to label as positive a sample that is negative: {:.1f}%'.format(metrics.precision_score(y_test, y_test_predict)*100)"
   ]
  },
  {
   "cell_type": "code",
   "execution_count": null,
   "metadata": {
    "collapsed": true
   },
   "outputs": [],
   "source": []
  }
 ],
 "metadata": {
  "anaconda-cloud": {},
  "kernelspec": {
   "display_name": "Python [Root]",
   "language": "python",
   "name": "Python [Root]"
  },
  "language_info": {
   "codemirror_mode": {
    "name": "ipython",
    "version": 2
   },
   "file_extension": ".py",
   "mimetype": "text/x-python",
   "name": "python",
   "nbconvert_exporter": "python",
   "pygments_lexer": "ipython2",
   "version": "2.7.12"
  }
 },
 "nbformat": 4,
 "nbformat_minor": 0
}
