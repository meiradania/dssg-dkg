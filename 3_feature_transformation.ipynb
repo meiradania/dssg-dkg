{
 "cells": [
  {
   "cell_type": "code",
   "execution_count": 1,
   "metadata": {
    "collapsed": false
   },
   "outputs": [],
   "source": [
    "import pandas as pd\n",
    "import numpy as np\n",
    "import nltk\n",
    "from gensim import corpora, models, similarities, matutils\n",
    "\n",
    "# load data\n",
    "df = pd.read_csv(\"../metadata/niere-example/df_classification_valid.csv\")\n",
    "dictionary = corpora.Dictionary.load(\"../metadata/niere-example/fulltitle.dict\")\n",
    "corpus = corpora.MmCorpus(\"../metadata/niere-example/fulltitle.mm\")"
   ]
  },
  {
   "cell_type": "code",
   "execution_count": 2,
   "metadata": {
    "collapsed": false
   },
   "outputs": [],
   "source": [
    "# 3) Creating a transformation tdf-if https://radimrehurek.com/gensim/tut2.html\n",
    "\n",
    "# 3a) Initialize a model\n",
    "# TF-IDF Transformation\n",
    "tfidf = models.TfidfModel(corpus) \n",
    "\n",
    "# 3b) Use the model to transform vectors\n",
    "corpus_tfidf = tfidf[corpus]\n",
    "\n",
    "# Available transformations: https://radimrehurek.com/gensim/tut2.html#available-transformations"
   ]
  },
  {
   "cell_type": "code",
   "execution_count": 3,
   "metadata": {
    "collapsed": false
   },
   "outputs": [
    {
     "name": "stdout",
     "output_type": "stream",
     "text": [
      "MmCorpus(4334 documents, 3363 features, 38400 non-zero entries)\n",
      "(3363, 4334)\n",
      "(4334, 3363)\n"
     ]
    }
   ],
   "source": [
    "# 3c) convert a corpus to a standard numpy dense/scipy sparse array\n",
    "matrix_tfidf = matutils.corpus2dense(corpus=corpus_tfidf,\n",
    "                                           num_terms=corpus_tfidf.corpus.num_terms,\n",
    "                                           num_docs=corpus_tfidf.corpus.num_docs)\n",
    "#corpus \n",
    "#num_terms : number of features\n",
    "#num_docs=None : the corpus length\n",
    "# matrix with documents as columns\n",
    "print corpus_tfidf.corpus\n",
    "print matrix_tfidf.shape\n",
    "\n",
    "matrix_tfidf_transpose = matrix_tfidf.transpose()\n",
    "np.savetxt(\"../metadata/niere-example/tf_idf_matrix.txt\", matrix_tfidf_transpose)\n",
    "\n",
    "print matrix_tfidf_transpose.shape"
   ]
  },
  {
   "cell_type": "code",
   "execution_count": null,
   "metadata": {
    "collapsed": true
   },
   "outputs": [],
   "source": []
  }
 ],
 "metadata": {
  "anaconda-cloud": {},
  "kernelspec": {
   "display_name": "Python [Root]",
   "language": "python",
   "name": "Python [Root]"
  },
  "language_info": {
   "codemirror_mode": {
    "name": "ipython",
    "version": 2
   },
   "file_extension": ".py",
   "mimetype": "text/x-python",
   "name": "python",
   "nbconvert_exporter": "python",
   "pygments_lexer": "ipython2",
   "version": "2.7.12"
  }
 },
 "nbformat": 4,
 "nbformat_minor": 0
}
